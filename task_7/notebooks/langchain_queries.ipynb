{
 "cells": [
  {
   "cell_type": "code",
   "execution_count": null,
   "id": "74b49085",
   "metadata": {},
   "outputs": [
    {
     "data": {
      "application/json": {
       "answer": "The context provided highlights two cities, New York and London, as travel destinations, but it does not definitively state which is the best city to travel to in the world. Both cities are described as major global hubs with unique attractions:\n\n### New York:\n- Known as the cultural and financial capital of the world.\n- Offers significant impact in commerce, finance, media, art, fashion, research, technology, education, and entertainment.\n- Home to iconic landmarks like Times Square, Broadway, Central Park, and the United Nations headquarters.\n- Accommodation options include luxurious, mid-town, and centrally located hotels.\n\n### London:\n- The capital of England and the United Kingdom, with a rich history dating back to Roman times.\n- Popular for leisure, outdoors, historical sites, arts, and culture.\n- Iconic landmarks include Buckingham Palace, Tower Bridge, and the Tower of London.\n- Offers a range of accommodations, from budget to luxury.\n\nBoth cities are described as world-class destinations with unique offerings, but the context does not provide enough information to determine which is objectively the best city to travel to in the world. The choice would depend on individual preferences, such as interest in history, culture, entertainment, or urban experiences.",
       "query": "which is the best city to travel to in the world?",
       "source_documents": [
        {
         "content": "Title: New York Brochure.pdfMargie’s Travel Presents…  \nNew York  \nThe City of New York, often called New York City or simply \nNew York, is the most populous city in the United States. \nWith an estimated 2015 population of 8,550,405 distributed \nover a land area of about 302.6 square miles, New York \nCity is also the most densely populated major city in the \nUnited States. Located at the southern tip of the state of \nNew York, the city is the center of the New York \nmetropolitan area, one of the most populous urban \nagglomerati ons in the world. A global power city, New York \nCity exerts a significant impact upon commerce, finance, \nmedia, art, fashion, research, technology, education, and \nentertainment, its fast pace defining the term New York \nminute. Home to the headquarters of t he United Nations, \nNew York is an important center for international diplomacy \nand has been described as the cultural and financial capital \nof the world . \n \nNew York  Hotels  \nMargie’s Travel offers the following accommodation options \nin New York : \nThe Manhattan  Hotel  \nStay in the heart of New York City, within an easy walk to \nTimes Square and Broadway . \nThe Grand Central  Hotel  \nComfortable mid -town  hotel . Close to Grand Central \nStation, the Chrysler Building, and the Empire State \nBuilding.  \nThe Park  Hotel  \nLuxurious accommodation  in upper Manhattan,  with views \nof Central Park . \n \n \nTo book your trip to New York , visit www.margiestravel.com  \n \n",
         "metadata": {
          "id": "TmV3IFlvcmsgQnJvY2h1cmUucGRmMA==",
          "score": 0.8226948
         },
         "score": 0.8226948
        },
        {
         "content": "Title: Margies Travel Company Info.pdf \n  \n \n \n \n \n \n \nWherever you want to go, Margie’s Travel can get you there ! \nMargie’s Travel is a world -leading travel agency, combining international reach with local \nexpertise. Just tell us where you want to go, and we can arrange:  \n• Flights  \n• Accommodation  \n• Transfers  • Visas  \n• Currency Exchange  \n• Excursions  \n \nWhere We Go  \nWhile we can arrange travel to anywhere  \nworldwide, we specialize in trips to:  \n• Dubai  \n• Las Vegas  \n• London  \n• New York  \n• San Francisco  Who We Are  \nMargie’s Travel employs some of the \nbest travel experts in the world. Our \nleadership team consists of:  \n• Marjorie  Long  (CEO)  \n• Logan  Reid  (CFO)  \n• Emma  Luffman  (CTO)  \n• Deepak  Nadar  (Strategic Director)  \n \nTo learn more about us , visit  our website at  www.margiestrave l.com  \n",
         "metadata": {
          "id": "TWFyZ2llcyBUcmF2ZWwgQ29tcGFueSBJbmZvLnBkZjA=",
          "score": 0.8204702
         },
         "score": 0.8204702
        },
        {
         "content": "Title: London Brochure.pdfMargie’s Travel Presents…  \nLondon  \nLondon is the capital and \nmost populous city of \nEngland and the United \nKingdom. Standing on the \nRiver Thames in the south \neast of the island of Great \nBritain, London has been \na major settlement for two \nmillennia. It was founded \nby the Romans, who \nnamed it Londinium. \nLondon's ancient core, the \nCity of London, largely \nretains its 1.12 -square -\nmile medieval boundaries. \nSince at least the 19th century, London has also referred to the metropolis around this core, \nhistorically split between Middlesex, Essex, Surre y, Kent, and Hertfordshire, which today largely \nmakes up Greater London, governed by the Mayor of London and the London Assembly.  \n \nMostly popular for:  \nLeisure, Outdoors, Historical, Arts \n& Culture  \n \nBest time to visit:  \nJun-Aug  \nAverag Precipitation : 1.9 in  \nAverage Temperature:  56-67°F  \n \n \nLondon  Hotels  \nMargie’s Travel offers the following accommodation options in London : \nThe Buckingham Hotel  \nComfortable  hotel close to major sights like  Buckingham Palace, Regent’s Park , and Trafalgar \nSquare.  \nThe City Hotel  \nLuxury rooms in the city, within walking distance of Tower Bridge and the Tower of London. . \nThe Kensington  Hotel  \nBudget accommodation near Earl’s Court.  \nTo book your trip to London , visit www.margiestravel.com  \n",
         "metadata": {
          "id": "TG9uZG9uIEJyb2NodXJlLnBkZjA=",
          "score": 0.81497455
         },
         "score": 0.81497455
        }
       ],
       "total_sources": 3
      }
     },
     "execution_count": 1,
     "metadata": {},
     "output_type": "execute_result"
    }
   ],
   "source": [
    "# RAG Query Result (LangChain)\n",
    "rag_result = ..."
   ]
  },
  {
   "cell_type": "code",
   "execution_count": null,
   "id": "5cf8d8ba",
   "metadata": {},
   "outputs": [
    {
     "data": {
      "application/json": [
       {
        "content": "Title: New York Brochure.pdfMargie’s Travel Presents…  \nNew York  \nThe City of New York, often called New York City or simply \nNew York, is the most populous city in the United States. \nWith an estimated 2015 population of 8,550,405 distributed \nover a land area of about 302.6 square miles, New York \nCity is also the most densely populated major city in the \nUnited States. Located at the southern tip of the state of \nNew York, the city is the center of the New York \nmetropolitan area, one of the most populous urban \nagglomerati ons in the world. A global power city, New York \nCity exerts a significant impact upon commerce, finance, \nmedia, art, fashion, research, technology, education, and \nentertainment, its fast pace defining the term New York \nminute. Home to the headquarters of t he United Nations, \nNew York is an important center for international diplomacy \nand has been described as the cultural and financial capital \nof the world . \n \nNew York  Hotels  \nMargie’s Travel offers the following accommodation options \nin New York : \nThe Manhattan  Hotel  \nStay in the heart of New York City, within an easy walk to \nTimes Square and Broadway . \nThe Grand Central  Hotel  \nComfortable mid -town  hotel . Close to Grand Central \nStation, the Chrysler Building, and the Empire State \nBuilding.  \nThe Park  Hotel  \nLuxurious accommodation  in upper Manhattan,  with views \nof Central Park . \n \n \nTo book your trip to New York , visit www.margiestravel.com  \n \n",
        "id": "TmV3IFlvcmsgQnJvY2h1cmUucGRmMA==",
        "score": 0.8226948
       },
       {
        "content": "Title: Margies Travel Company Info.pdf \n  \n \n \n \n \n \n \nWherever you want to go, Margie’s Travel can get you there ! \nMargie’s Travel is a world -leading travel agency, combining international reach with local \nexpertise. Just tell us where you want to go, and we can arrange:  \n• Flights  \n• Accommodation  \n• Transfers  • Visas  \n• Currency Exchange  \n• Excursions  \n \nWhere We Go  \nWhile we can arrange travel to anywhere  \nworldwide, we specialize in trips to:  \n• Dubai  \n• Las Vegas  \n• London  \n• New York  \n• San Francisco  Who We Are  \nMargie’s Travel employs some of the \nbest travel experts in the world. Our \nleadership team consists of:  \n• Marjorie  Long  (CEO)  \n• Logan  Reid  (CFO)  \n• Emma  Luffman  (CTO)  \n• Deepak  Nadar  (Strategic Director)  \n \nTo learn more about us , visit  our website at  www.margiestrave l.com  \n",
        "id": "TWFyZ2llcyBUcmF2ZWwgQ29tcGFueSBJbmZvLnBkZjA=",
        "score": 0.8204702
       },
       {
        "content": "Title: London Brochure.pdfMargie’s Travel Presents…  \nLondon  \nLondon is the capital and \nmost populous city of \nEngland and the United \nKingdom. Standing on the \nRiver Thames in the south \neast of the island of Great \nBritain, London has been \na major settlement for two \nmillennia. It was founded \nby the Romans, who \nnamed it Londinium. \nLondon's ancient core, the \nCity of London, largely \nretains its 1.12 -square -\nmile medieval boundaries. \nSince at least the 19th century, London has also referred to the metropolis around this core, \nhistorically split between Middlesex, Essex, Surre y, Kent, and Hertfordshire, which today largely \nmakes up Greater London, governed by the Mayor of London and the London Assembly.  \n \nMostly popular for:  \nLeisure, Outdoors, Historical, Arts \n& Culture  \n \nBest time to visit:  \nJun-Aug  \nAverag Precipitation : 1.9 in  \nAverage Temperature:  56-67°F  \n \n \nLondon  Hotels  \nMargie’s Travel offers the following accommodation options in London : \nThe Buckingham Hotel  \nComfortable  hotel close to major sights like  Buckingham Palace, Regent’s Park , and Trafalgar \nSquare.  \nThe City Hotel  \nLuxury rooms in the city, within walking distance of Tower Bridge and the Tower of London. . \nThe Kensington  Hotel  \nBudget accommodation near Earl’s Court.  \nTo book your trip to London , visit www.margiestravel.com  \n",
        "id": "TG9uZG9uIEJyb2NodXJlLnBkZjA=",
        "score": 0.81497455
       }
      ]
     },
     "execution_count": 2,
     "metadata": {},
     "output_type": "execute_result"
    }
   ],
   "source": [
    "# Vector Query Result (Legacy)\n",
    "vector_results = ..."
   ]
  },
  {
   "cell_type": "code",
   "execution_count": null,
   "id": "d3ab406a",
   "metadata": {},
   "outputs": [
    {
     "data": {
      "application/json": [
       {
        "content": "Title: Dubai Brochure.pdfMargie’s Travel Presents…  \nDubai  \n \n \nDubai is the largest and most populous city in the United \nArab Emirates. It is located on the southeast coast of the \nPersian Gulf and is the capital of the Emirate of Dubai, \none of the seven emirates that make up the country. Abu \nDhabi and Dubai are the only two emirates to have veto \npower over critical matters of national importance in the \ncountry's Federal Supreme Council. The city of Dubai is \nlocated on the emirate's northern coastline and heads the \nDuba i-Sharjah -Ajman metropolitan area.  \n \n \n \n \nDubai  Hotels  \nMargie’s Travel offers the following accommodation \noptions in Dubai : \nThe Creek  Hotel  \nFriendly boutique hotel with in the heart of the bustling \nDubai Creek area . \nThe Deira  Hotel  \nFamily -run hotel in Dubai’s  traditional  commercial \ncenter . \nThe Lost City  Hotel  \nLuxurious accommodation  in Dubai, with onsite \nwaterpark and aquarium . \n \n \n \nTo book your trip to Dubai , visit www.margiestravel.com  \n \n",
        "id": "RHViYWkgQnJvY2h1cmUucGRmMA==",
        "score": 3.9143627
       },
       {
        "content": "Title: London Brochure.pdfMargie’s Travel Presents…  \nLondon  \nLondon is the capital and \nmost populous city of \nEngland and the United \nKingdom. Standing on the \nRiver Thames in the south \neast of the island of Great \nBritain, London has been \na major settlement for two \nmillennia. It was founded \nby the Romans, who \nnamed it Londinium. \nLondon's ancient core, the \nCity of London, largely \nretains its 1.12 -square -\nmile medieval boundaries. \nSince at least the 19th century, London has also referred to the metropolis around this core, \nhistorically split between Middlesex, Essex, Surre y, Kent, and Hertfordshire, which today largely \nmakes up Greater London, governed by the Mayor of London and the London Assembly.  \n \nMostly popular for:  \nLeisure, Outdoors, Historical, Arts \n& Culture  \n \nBest time to visit:  \nJun-Aug  \nAverag Precipitation : 1.9 in  \nAverage Temperature:  56-67°F  \n \n \nLondon  Hotels  \nMargie’s Travel offers the following accommodation options in London : \nThe Buckingham Hotel  \nComfortable  hotel close to major sights like  Buckingham Palace, Regent’s Park , and Trafalgar \nSquare.  \nThe City Hotel  \nLuxury rooms in the city, within walking distance of Tower Bridge and the Tower of London. . \nThe Kensington  Hotel  \nBudget accommodation near Earl’s Court.  \nTo book your trip to London , visit www.margiestravel.com  \n",
        "id": "TG9uZG9uIEJyb2NodXJlLnBkZjA=",
        "score": 3.7122924
       },
       {
        "content": "Title: Las Vegas Brochure.pdfMargie’s Travel Presents…  \nLas Vegas  \n Las Vegas, officially \nthe City of Las Vegas \nand often known \nsimply as Vegas, is the \n28th-most populated \ncity in the United \nStates, the most \npopulated city in the \nstate of Nevada, and \nthe county seat of \nClark County. The city \nanchors the Las Vegas \nValley me tropolitan \narea and is the largest \ncity within the greater Mojave Desert. Las Vegas is an internationally renowned major resort city, \nknown primarily for its gambling, shopping, fine dining, entertainment, and nightlife. The Las Vegas \nValley as a whole ser ves as the leading financial, commercial, and cultural center for Nevada.  \nLas Vegas Hotels  \nMargie’s Travel offers the \nfollowing hotels  in Las \nVegas : \nThe Volcano  Hotel  \nIn the heart of The Strip . \nStylish casino hotel with  \nlive entertainment  and an \nextensive  pool area.  \nThe Fountain  Hotel  \nLuxury  accommodation in  \nLas Vegas with a range of \nrestaurants and cocktail \nbars \nThe Canal  Hotel  \nAn opulent Italian -themed  \nresort with luxurious suite \naccommodation.  \n \nTo book your trip to Las Vegas , visit www.margiestravel.com  \n \n",
        "id": "TGFzIFZlZ2FzIEJyb2NodXJlLnBkZjA=",
        "score": 3.603928
       }
      ]
     },
     "execution_count": 3,
     "metadata": {},
     "output_type": "execute_result"
    }
   ],
   "source": [
    "# Semantic Query Result (Legacy)\n",
    "semantic_results = ..."
   ]
  }
 ],
 "metadata": {},
 "nbformat": 4,
 "nbformat_minor": 5
}
